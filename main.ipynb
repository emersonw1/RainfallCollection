{
 "cells": [
  {
   "cell_type": "code",
   "execution_count": null,
   "metadata": {},
   "outputs": [],
   "source": [
    "# Import packages\n",
    "import os\n",
    "os.environ['USE_PYGEOS'] = '0'\n",
    "import geopandas as gpd\n",
    "import pandas as pd\n",
    "import requests\n",
    "import rasterio\n",
    "import xarray as xr\n",
    "import rioxarray as rio\n",
    "import numpy as np\n",
    "import matplotlib.pyplot as plt\n",
    "import mercantile as m\n",
    "from shapely.geometry import shape, Polygon, Point, box\n",
    "from mpl_toolkits.axes_grid1 import make_axes_locatable\n",
    "import matplotlib.pyplot as plt\n",
    "from zipfile import ZipFile\n",
    "import shutil\n",
    "\n",
    "# NOTE: change to your own path when setting workspace\n",
    "# ws = r'C:\\Users\\emers\\.rainfall'\n",
    "ws = r'C:\\Users\\sgartrel\\Desktop\\geog490\\final-proj\\RainfallCollection\\data'\n"
   ]
  },
  {
   "cell_type": "markdown",
   "metadata": {},
   "source": [
    "### Step 1: Get Data\n",
    "Download vector data for the state geometry and the geometry of buildings within it, and store these datasets in geodataframes. The vector data can be downloaded for any US State that you have a precipitation cdf for--just manipulate the `state` variable in the following code cell.\n",
    "\n",
    "##### References:\n",
    "- [Global Footprints Dataset](https://github.com/microsoft/GlobalMLBuildingFootprints)\n",
    "- [Unzip files in python (geeks for geeks)](https://www.geeksforgeeks.org/unzipping-files-in-python/)"
   ]
  },
  {
   "cell_type": "code",
   "execution_count": null,
   "metadata": {},
   "outputs": [],
   "source": [
    "# set target state\n",
    "state = 'arizona'\n",
    "\n",
    "# get state bounds\n",
    "state_gdf = gpd.read_file(\n",
    "    f'https://raw.githubusercontent.com/glynnbird/usstatesgeojson/master/{state}.geojson', crs='epsg:4326'\n",
    ")"
   ]
  },
  {
   "cell_type": "code",
   "execution_count": null,
   "metadata": {},
   "outputs": [],
   "source": [
    "# get building data\n",
    "filename = f'{state.title()}.geojson.zip'\n",
    "filepath = os.path.join(ws, filename)\n",
    "url = f'https://usbuildingdata.blob.core.windows.net/usbuildings-v2/{filename}'\n",
    "\n",
    "with requests.get(url, allow_redirects=True, stream=True) as r:\n",
    "    with open(filepath, 'wb') as f:\n",
    "        shutil.copyfileobj(r.raw, f)\n",
    "        print('zip downloaded')\n",
    "\n",
    "        with ZipFile(filepath, 'r') as z:\n",
    "            z.extractall(\n",
    "                path=ws\n",
    "                )\n",
    "\n",
    "print(f'file unzipped successfully ({os.path.getsize(filepath.strip(\".zip\")) / 1000000} MB)')"
   ]
  },
  {
   "cell_type": "code",
   "execution_count": null,
   "metadata": {},
   "outputs": [],
   "source": [
    "# read buildings into geojson\n",
    "buildings_gdf = gpd.read_file(filepath.strip('.zip'), crs='epsg:4326')\n",
    "buildings_gdf.to_crs('epsg:32612')\n",
    "print('read into dataframe successfully')"
   ]
  },
  {
   "cell_type": "markdown",
   "metadata": {},
   "source": [
    "### Step 2: Prep the NC file\n",
    "Remove some dimensions and summarize across the `time` attribute into\n",
    "- `max` precip in the timespan\n",
    "- `min` precip in the timespan\n",
    "- `mean` precip among the timespan\n",
    "\n",
    "##### References:\n",
    "- [dropping the `expver` variable](https://code.mpimet.mpg.de/boards/1/topics/8961)"
   ]
  },
  {
   "cell_type": "code",
   "execution_count": null,
   "metadata": {},
   "outputs": [],
   "source": [
    "# load precip data\n",
    "xds = xr.open_dataset(os.path.join(ws, 'precip.nc'))\n",
    "\n",
    "# drop the \"expver\" dimension\n",
    "no_expver = xds.reduce(np.nansum, dim='expver')\n",
    "\n",
    "# get mean, max, min precipitation over the 10 year period\n",
    "mean = no_expver.reduce(np.mean, dim='time', keep_attrs=True)\n",
    "max = no_expver.reduce(np.max, dim='time', keep_attrs=True)\n",
    "min = no_expver.reduce(np.min, dim='time', keep_attrs=True)\n",
    "\n",
    "# verify time dimension has been removed from each\n",
    "for i in [max, mean, min]:\n",
    "    assert 120 not in i.to_array().shape \n",
    "\n",
    "mean_df = mean.to_dataframe()\n",
    "max_df = max.to_dataframe()\n",
    "min_df = min.to_dataframe()\n",
    "\n",
    "print(mean_df.tail(5))\n",
    "print(max_df.tail(5))\n",
    "print(min_df.tail(5))\n"
   ]
  },
  {
   "cell_type": "code",
   "execution_count": null,
   "metadata": {},
   "outputs": [],
   "source": [
    "# Plot Minimums\n",
    "fig, ax = plt.subplots(figsize=(10,6))\n",
    "im1 = ax.imshow(min.to_array()[0], cmap='RdYlBu')\n",
    "ax.set_title(\"Minimum Precip\", fontsize=14)\n",
    "divider = make_axes_locatable(ax)\n",
    "cax = divider.append_axes('right', size='5%', pad=0.05)\n",
    "fig.colorbar(im1, cax=cax, orientation='vertical')"
   ]
  },
  {
   "cell_type": "code",
   "execution_count": null,
   "metadata": {},
   "outputs": [],
   "source": [
    "# Plot Maximums\n",
    "fig, ax = plt.subplots(figsize=(10,6))\n",
    "im1 = ax.imshow(max.to_array()[0], cmap='RdYlBu')\n",
    "ax.set_title(\"Maximum Precip\", fontsize=14)\n",
    "divider = make_axes_locatable(ax)\n",
    "cax = divider.append_axes('right', size='5%', pad=0.05)\n",
    "fig.colorbar(im1, cax=cax, orientation='vertical')"
   ]
  },
  {
   "cell_type": "code",
   "execution_count": null,
   "metadata": {},
   "outputs": [],
   "source": [
    "# Plot Means\n",
    "fig, ax = plt.subplots(figsize=(10,6))\n",
    "im1 = ax.imshow(mean.to_array()[0], cmap='RdYlBu')\n",
    "ax.set_title(\"Mean Precip\", fontsize=14)\n",
    "divider = make_axes_locatable(ax)\n",
    "cax = divider.append_axes('right', size='5%', pad=0.05)\n",
    "fig.colorbar(im1, cax=cax, orientation='vertical')"
   ]
  },
  {
   "cell_type": "markdown",
   "metadata": {},
   "source": [
    "### Step 3: Reproject and Read into Rasterio\n",
    "As you can see from the axes of the above plots, the cdf file is still in degrees that count up from its corners, so it appears unaware of its location. Creating a spatially-aware raster is necessary before analysis can be perfomed between buildings and precip"
   ]
  },
  {
   "cell_type": "code",
   "execution_count": null,
   "metadata": {},
   "outputs": [],
   "source": [
    "# Converts the NC file with precipitation data to A Raster\n",
    "precip = no_expver['tp']\n",
    "precip = precip.rio.set_spatial_dims(x_dim='latitude', y_dim='longitude')\n",
    "reordered = precip.transpose('time', 'latitude', 'longitude')\n",
    "reordered.rio.write_crs('EPSG:4326', inplace=True)\n",
    "reordered.rio.to_raster(os.path.join(ws, 'precip_raster.tiff'))"
   ]
  },
  {
   "cell_type": "code",
   "execution_count": null,
   "metadata": {},
   "outputs": [],
   "source": [
    "# Opens raster created in last cell\n",
    "precip_raster = rasterio.open(os.path.join(ws, 'precip_raster.tiff'))  \n",
    "\n",
    "# Reads the raster with the band representing the month, 1 being Jan. 2013\n",
    "precip_array = precip_raster.read(1)\n",
    "\n",
    "fig, ax = plt.subplots(figsize=(10,6))\n",
    "im1 = ax.imshow(precip_array, cmap='RdYlBu')\n",
    "\n",
    "ax.set_title(\"Precip\", fontsize=14)\n",
    "divider = make_axes_locatable(ax)\n",
    "cax = divider.append_axes('right', size='5%', pad=0.05)\n",
    "fig.colorbar(im1, cax=cax, orientation='vertical')"
   ]
  },
  {
   "cell_type": "code",
   "execution_count": null,
   "metadata": {},
   "outputs": [],
   "source": [
    "# clip buildings (for speedy development)\n",
    "test = gpd.read_file(\n",
    "    os.path.join(ws, 'test.geojson'),\n",
    "    crs='epsg:4326'\n",
    "    ).to_crs(\n",
    "    'epsg:32612'\n",
    "    )\n",
    "\n",
    "subset = gpd.clip(buildings_gdf.to_crs('epsg:32612'), test)"
   ]
  },
  {
   "cell_type": "code",
   "execution_count": null,
   "metadata": {},
   "outputs": [],
   "source": [
    "# set bldg = buildings_gdf for complete analysis\n",
    "bldg = subset\n",
    "# bldg = buildings_gdf\n",
    "precip = rasterio.open(os.path.join(ws, 'precip_raster.tiff'))\n",
    "\n",
    "# add necesasry fields to building data\n",
    "bldg['area_m2'] = bldg['geometry'].area\n",
    "\n",
    "bldg = bldg.to_crs('epsg:4326') # necessary due to GDAL driver drama. Area is still accurate bc derived from UTM\n",
    "\n",
    "bldg['centroid'] = bldg['geometry'].centroid\n"
   ]
  },
  {
   "cell_type": "code",
   "execution_count": null,
   "metadata": {},
   "outputs": [],
   "source": [
    "# this step takes about an hour for the full building dataset\n",
    "\n",
    "from rasterio.plot import show\n",
    "\n",
    "fig, ax = plt.subplots()\n",
    "\n",
    "# transform rasterio plot to real world coords\n",
    "extent=[precip.bounds[0], precip.bounds[2], precip.bounds[1], precip.bounds[3]]\n",
    "ax = rasterio.plot.show(precip, extent=extent, ax=ax, cmap='RdYlBu')\n",
    "state_precip = state_gdf.boundary.plot(ax=ax)\n",
    "print(bldg.crs, precip.crs)\n",
    "\n",
    "\n",
    "coord_list = [(x,y) for x,y in zip(bldg['centroid'].x , bldg['centroid'].y)]\n",
    "bldg['precip_m'] = [x for x in precip.sample(coord_list)]\n",
    "bldg.plot(ax=state_precip)"
   ]
  },
  {
   "attachments": {},
   "cell_type": "markdown",
   "metadata": {},
   "source": [
    "### Step 4: Do Some Actual Analysis\n",
    "Now that the raster is georeferenced and its values have been successfully ported to the geodataframe, we can begin summarizing and drawing conclusions about the state's rainwater harvesting potential. Some facts to note:\n",
    "- AZ'  driest month: June\n",
    "- AZ's wettest month: March\n",
    "- AZ's monsoon season: June-September\n",
    "- Rainfall is measured in meters for this dataset\n",
    "    - the base area of any rain gauge is linearly related to how much rain it catches, meaning that precip data in meters can be simultaneously interpreted as mm per square meter/foot/mile/etc. \n",
    "\n",
    "The process:\n",
    "- First, we filter out buildings that are too big to count as residential houses, a subjective threshold we've defined as 5000 square feet (464.5 square meters)\n",
    "- Then, we summarize precipitation data spanning the 10 year period for each building, in terms of harvest amounts (m3)\n",
    "\n",
    "#### References:\n",
    "- [Arizona Weather](https://www.rssweather.com/climate/Arizona/Phoenix/#:~:text=The%20driest%20month%20in%20Phoenix,March%20is%20the%20wettest%20month.)"
   ]
  },
  {
   "cell_type": "code",
   "execution_count": null,
   "metadata": {},
   "outputs": [],
   "source": [
    "# define parameters (area threshold in meters, daily residential usage in gallons)\n",
    "residential_roof = 464.5\n",
    "residential_usage = 146\n",
    "\n",
    "# drop non-residential sized buildings and get water usage in cubic meters/month (converted from gallons per day)\n",
    "bldg = bldg[bldg['area_m2'] <= residential_roof]\n",
    "bldg['usage_m3'] = (residential_usage * 30 * 3.78541) / 1000\n",
    "\n",
    "# summarize the precip array\n",
    "bldg['mean_precip_m'] = bldg['precip_m'].apply(lambda x: np.mean(x))\n",
    "bldg['min_precip_m'] = bldg['precip_m'].apply(lambda x: np.min(x))\n",
    "bldg['max_precip_m'] = bldg['precip_m'].apply(lambda x: np.max(x))\n",
    "\n",
    "# get harvest values in cubic meters\n",
    "bldg['mean_harvest_m3'] = bldg['mean_precip_m'] * bldg['area_m2']\n",
    "bldg['min_harvest_m3'] = bldg['min_precip_m'] * bldg['area_m2']\n",
    "bldg['max_harvest_m3'] = bldg['max_precip_m'] * bldg['area_m2']\n",
    "\n",
    "# average the 3rd month of every year in 120 months\n",
    "bldg['mar_precip'] = bldg['precip_m'].apply(lambda x: np.mean(\n",
    "    [\n",
    "        x[month] for month in range(3, (len(x)-1), 12)\n",
    "    ]\n",
    "))\n",
    "\n",
    "# average the 6th month of every year in 120 months\n",
    "bldg['jun_precip'] = bldg['precip_m'].apply(lambda x: np.mean(\n",
    "    [\n",
    "        x[month] for month in range(6, (len(x)-1), 12)\n",
    "    ]\n",
    "))\n",
    "\n",
    "# average monsoon season (6th - 9th month every year)\n",
    "\n",
    "\n",
    "bldg"
   ]
  },
  {
   "cell_type": "code",
   "execution_count": null,
   "metadata": {},
   "outputs": [],
   "source": [
    "# now, compute deficit between water used and harvested per month\n",
    "\n",
    "# deficit under average conditions (mean precip)\n",
    "bldg['mean_deficit_m3'] = bldg['usage_m3'] - bldg['mean_harvest_m3']\n",
    "\n",
    "# deficit under optimal conditions (max precip)\n",
    "bldg['wet_deficit_m3'] = bldg['usage_m3'] - bldg['max_harvest_m3']\n",
    "\n",
    "# deficit under most arid conditions (min precip)\n",
    "bldg['arid_deficit_m3'] = bldg['usage_m3'] - bldg['min_harvest_m3']"
   ]
  },
  {
   "cell_type": "code",
   "execution_count": null,
   "metadata": {},
   "outputs": [],
   "source": [
    "# map is incredibly underwhelming for 10 minutes of load time\n",
    "# base = state_gdf.boundary.plot(edgecolor='black')\n",
    "# bldg.plot(ax=base, column='mean_deficit_m3', cmap='Blues')"
   ]
  },
  {
   "cell_type": "code",
   "execution_count": null,
   "metadata": {},
   "outputs": [],
   "source": [
    "# get Arizona cities to break down data\n",
    "cities = gpd.read_file(os.path.join(ws, 'az_cities.geojson')).set_crs('epsg:3785')\n",
    "cities = cities.to_crs('epsg:4326')\n",
    "city_lyr = cities.plot()\n",
    "state_gdf.boundary.plot(ax=city_lyr, edgecolor='black')"
   ]
  },
  {
   "cell_type": "code",
   "execution_count": null,
   "metadata": {},
   "outputs": [],
   "source": [
    "# join city data to buildings\n",
    "bldgs_by_city = bldg.sjoin(cities)\n",
    "phx = bldgs_by_city[bldgs_by_city['NAME'] == 'PHOENIX']\n",
    "flag = bldgs_by_city[bldgs_by_city['NAME'] == 'FLAGSTAFF']"
   ]
  }
 ],
 "metadata": {
  "kernelspec": {
   "display_name": "Python 3",
   "language": "python",
   "name": "python3"
  },
  "language_info": {
   "codemirror_mode": {
    "name": "ipython",
    "version": 3
   },
   "file_extension": ".py",
   "mimetype": "text/x-python",
   "name": "python",
   "nbconvert_exporter": "python",
   "pygments_lexer": "ipython3",
   "version": "3.10.8"
  },
  "vscode": {
   "interpreter": {
    "hash": "17895b665ee7b1b8868cee736aa78cc10ea02c8f649319f9f3b8f4c2af9e6c40"
   }
  }
 },
 "nbformat": 4,
 "nbformat_minor": 2
}
