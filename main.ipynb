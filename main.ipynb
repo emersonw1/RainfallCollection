{
 "cells": [
  {
   "cell_type": "code",
   "execution_count": 2,
   "metadata": {},
   "outputs": [
    {
     "name": "stderr",
     "output_type": "stream",
     "text": [
      "C:\\Users\\emers\\anaconda3\\lib\\site-packages\\pandas\\core\\computation\\expressions.py:20: UserWarning: Pandas requires version '2.7.3' or newer of 'numexpr' (version '2.7.1' currently installed).\n",
      "  from pandas.core.computation.check import NUMEXPR_INSTALLED\n"
     ]
    }
   ],
   "source": [
    "# Import packages\n",
    "import os\n",
    "os.environ['USE_PYGEOS'] = '0'\n",
    "import geopandas as gpd\n",
    "import pandas as pd\n",
    "import requests\n",
    "import rasterio\n",
    "import xarray as xr\n",
    "import rioxarray as rio\n",
    "import numpy as np\n",
    "import matplotlib.pyplot as plt\n",
    "import mercantile as m\n",
    "from shapely.geometry import shape, Polygon, Point, box\n",
    "from mpl_toolkits.axes_grid1 import make_axes_locatable\n",
    "import matplotlib.pyplot as plt\n",
    "from zipfile import ZipFile\n",
    "import shutil\n",
    "from rasterstats import zonal_stats\n",
    "\n",
    "# NOTE: change to your own path when setting workspace\n",
    "ws = r'C:\\Users\\emers\\.rainfall'\n"
   ]
  },
  {
   "cell_type": "markdown",
   "metadata": {},
   "source": [
    "### Step 1: Get Data\n",
    "Download vector data for the state geometry and the geometry of buildings within it, and store these datasets in geodataframes. The vector data can be downloaded for any US State that you have a precipitation cdf for--just manipulate the `state` variable in the following code cell.\n",
    "\n",
    "##### References:\n",
    "- [Global Footprints Dataset](https://github.com/microsoft/GlobalMLBuildingFootprints)\n",
    "- [Unzip files in python (geeks for geeks)](https://www.geeksforgeeks.org/unzipping-files-in-python/)"
   ]
  },
  {
   "cell_type": "code",
   "execution_count": 3,
   "metadata": {},
   "outputs": [],
   "source": [
    "# set target state\n",
    "state = 'arizona'\n",
    "\n",
    "# get state bounds\n",
    "state_gdf = gpd.read_file(\n",
    "    f'https://raw.githubusercontent.com/glynnbird/usstatesgeojson/master/{state}.geojson', crs='epsg:4326'\n",
    ")"
   ]
  },
  {
   "cell_type": "code",
   "execution_count": 4,
   "metadata": {},
   "outputs": [
    {
     "name": "stdout",
     "output_type": "stream",
     "text": [
      "zip downloaded\n",
      "file unzipped successfully (845.767832 MB)\n"
     ]
    }
   ],
   "source": [
    "# get building data\n",
    "filename = f'{state.title()}.geojson.zip'\n",
    "filepath = os.path.join(ws, filename)\n",
    "url = f'https://usbuildingdata.blob.core.windows.net/usbuildings-v2/{filename}'\n",
    "\n",
    "with requests.get(url, allow_redirects=True, stream=True) as r:\n",
    "    with open(filepath, 'wb') as f:\n",
    "        shutil.copyfileobj(r.raw, f)\n",
    "        print('zip downloaded')\n",
    "\n",
    "        with ZipFile(filepath, 'r') as z:\n",
    "            z.extractall(\n",
    "                path=ws\n",
    "                )\n",
    "\n",
    "print(f'file unzipped successfully ({os.path.getsize(filepath.strip(\".zip\")) / 1000000} MB)')"
   ]
  },
  {
   "cell_type": "code",
   "execution_count": 5,
   "metadata": {},
   "outputs": [
    {
     "name": "stdout",
     "output_type": "stream",
     "text": [
      "read into dataframe successfully\n"
     ]
    }
   ],
   "source": [
    "# read buildings into geojson\n",
    "buildings_gdf = gpd.read_file(filepath.strip('.zip'), crs='epsg:4326')\n",
    "buildings_gdf.to_crs('epsg:32612')\n",
    "print('read into dataframe successfully')"
   ]
  },
  {
   "cell_type": "code",
   "execution_count": 6,
   "metadata": {},
   "outputs": [
    {
     "name": "stdout",
     "output_type": "stream",
     "text": [
      "                          tp\n",
      "longitude latitude          \n",
      "-108.0    32.00     0.000645\n",
      "          31.75     0.000628\n",
      "          31.50     0.000587\n",
      "          31.25     0.000650\n",
      "          31.00     0.000684\n",
      "                          tp\n",
      "longitude latitude          \n",
      "-108.0    32.00     0.003283\n",
      "          31.75     0.003353\n",
      "          31.50     0.003656\n",
      "          31.25     0.004519\n",
      "          31.00     0.004999\n",
      "                     tp\n",
      "longitude latitude     \n",
      "-108.0    32.00     0.0\n",
      "          31.75     0.0\n",
      "          31.50     0.0\n",
      "          31.25     0.0\n",
      "          31.00     0.0\n"
     ]
    }
   ],
   "source": [
    "# load precip data\n",
    "xds = xr.open_dataset(os.path.join(ws, 'precip.nc'))\n",
    "\n",
    "# drop the \"expver\" dimension\n",
    "no_expver = xds.reduce(np.nansum, dim='expver')\n",
    "\n",
    "# get mean, max, min precipitation over the 10 year period\n",
    "mean = no_expver.reduce(np.mean, dim='time', keep_attrs=True)\n",
    "max = no_expver.reduce(np.max, dim='time', keep_attrs=True)\n",
    "min = no_expver.reduce(np.min, dim='time', keep_attrs=True)\n",
    "\n",
    "# verify time dimension has been removed from each\n",
    "for i in [max, mean, min]:\n",
    "    assert 120 not in i.to_array().shape \n",
    "\n",
    "mean_df = mean.to_dataframe()\n",
    "max_df = max.to_dataframe()\n",
    "min_df = min.to_dataframe()\n",
    "\n",
    "print(mean_df.tail(5))\n",
    "print(max_df.tail(5))\n",
    "print(min_df.tail(5))\n"
   ]
  },
  {
   "cell_type": "markdown",
   "metadata": {},
   "source": [
    "### Step 2: Prep the NC file\n",
    "Remove some dimensions and summarize across the `time` attribute into\n",
    "- `max` precip in the timespan\n",
    "- `min` precip in the timespan\n",
    "- `mean` precip among the timespan\n",
    "\n",
    "##### References:\n",
    "- [dropping the `expver` variable](https://code.mpimet.mpg.de/boards/1/topics/8961)"
   ]
  },
  {
   "cell_type": "code",
   "execution_count": 7,
   "metadata": {},
   "outputs": [
    {
     "data": {
      "text/plain": [
       "<matplotlib.colorbar.Colorbar at 0x23211646790>"
      ]
     },
     "execution_count": 7,
     "metadata": {},
     "output_type": "execute_result"
    },
    {
     "data": {
      "image/png": "[encoded data removed]",
      "text/plain": [
       "<Figure size 720x432 with 2 Axes>"
      ]
     },
     "metadata": {
      "needs_background": "light"
     },
     "output_type": "display_data"
    }
   ],
   "source": [
    "# Plot Minimums\n",
    "fig, ax = plt.subplots(figsize=(10,6))\n",
    "im1 = ax.imshow(min.to_array()[0], cmap='RdYlBu')\n",
    "ax.set_title(\"Minimum Precip\", fontsize=14)\n",
    "divider = make_axes_locatable(ax)\n",
    "cax = divider.append_axes('right', size='5%', pad=0.05)\n",
    "fig.colorbar(im1, cax=cax, orientation='vertical')"
   ]
  },
  {
   "cell_type": "code",
   "execution_count": 8,
   "metadata": {},
   "outputs": [
    {
     "data": {
      "text/plain": [
       "<matplotlib.colorbar.Colorbar at 0x232851d24c0>"
      ]
     },
     "execution_count": 8,
     "metadata": {},
     "output_type": "execute_result"
    },
    {
     "data": {
      "image/png": "[encoded data removed]",
      "text/plain": [
       "<Figure size 720x432 with 2 Axes>"
      ]
     },
     "metadata": {
      "needs_background": "light"
     },
     "output_type": "display_data"
    }
   ],
   "source": [
    "# Plot Maximums\n",
    "fig, ax = plt.subplots(figsize=(10,6))\n",
    "im1 = ax.imshow(max.to_array()[0], cmap='RdYlBu')\n",
    "ax.set_title(\"Maximum Precip\", fontsize=14)\n",
    "divider = make_axes_locatable(ax)\n",
    "cax = divider.append_axes('right', size='5%', pad=0.05)\n",
    "fig.colorbar(im1, cax=cax, orientation='vertical')"
   ]
  },
  {
   "cell_type": "code",
   "execution_count": 9,
   "metadata": {},
   "outputs": [
    {
     "data": {
      "text/plain": [
       "<matplotlib.colorbar.Colorbar at 0x2327f3ffaf0>"
      ]
     },
     "execution_count": 9,
     "metadata": {},
     "output_type": "execute_result"
    },
    {
     "data": {
      "image/png": "[encoded data removed]",
      "text/plain": [
       "<Figure size 720x432 with 2 Axes>"
      ]
     },
     "metadata": {
      "needs_background": "light"
     },
     "output_type": "display_data"
    }
   ],
   "source": [
    "# Plot Means\n",
    "fig, ax = plt.subplots(figsize=(10,6))\n",
    "im1 = ax.imshow(mean.to_array()[0], cmap='RdYlBu')\n",
    "ax.set_title(\"Mean Precip\", fontsize=14)\n",
    "divider = make_axes_locatable(ax)\n",
    "cax = divider.append_axes('right', size='5%', pad=0.05)\n",
    "fig.colorbar(im1, cax=cax, orientation='vertical')"
   ]
  },
  {
   "cell_type": "markdown",
   "metadata": {},
   "source": [
    "### Step 3: Read into Rasterio\n",
    "The data don't have spatial dimensions in lat/lon terms, so creating a spatially-aware raster is necessary before analysis can be perfomed between buildings and precip"
   ]
  },
  {
   "cell_type": "code",
   "execution_count": 10,
   "metadata": {},
   "outputs": [],
   "source": [
    "# Converts the NC file with precipitation data to A Raster\n",
    "precip = no_expver['tp']\n",
    "precip = precip.rio.set_spatial_dims(x_dim='latitude', y_dim='longitude')\n",
    "reordered = precip.transpose('time', 'latitude', 'longitude')\n",
    "reordered.rio.write_crs('epsg:4326', inplace=True)\n",
    "reordered.rio.reproject('EPSG:32612')\n",
    "reordered.rio.to_raster(os.path.join(ws, 'precip_raster.tiff'))"
   ]
  },
  {
   "cell_type": "code",
   "execution_count": 11,
   "metadata": {},
   "outputs": [
    {
     "data": {
      "text/plain": [
       "<matplotlib.colorbar.Colorbar at 0x2327f703430>"
      ]
     },
     "execution_count": 11,
     "metadata": {},
     "output_type": "execute_result"
    },
    {
     "data": {
      "image/png": "[encoded data removed]",
      "text/plain": [
       "<Figure size 720x432 with 2 Axes>"
      ]
     },
     "metadata": {
      "needs_background": "light"
     },
     "output_type": "display_data"
    }
   ],
   "source": [
    "# Opens raster created in last cell\n",
    "precip_raster = rasterio.open(os.path.join(ws, 'precip_raster.tiff'))  \n",
    "\n",
    "# Reads the raster with the band representing the month, 1 being Jan. 2013\n",
    "precip_array = precip_raster.read(1)\n",
    "\n",
    "fig, ax = plt.subplots(figsize=(10,6))\n",
    "im1 = ax.imshow(precip_array, cmap='RdYlBu')\n",
    "\n",
    "ax.set_title(\"Precip\", fontsize=14)\n",
    "divider = make_axes_locatable(ax)\n",
    "cax = divider.append_axes('right', size='5%', pad=0.05)\n",
    "fig.colorbar(im1, cax=cax, orientation='vertical')"
   ]
  },
  {
   "cell_type": "code",
   "execution_count": 12,
   "metadata": {},
   "outputs": [],
   "source": [
    "# clip buildings (for speedy development)\n",
    "test = gpd.read_file(\n",
    "    'test.geojson',\n",
    "    crs='epsg:4326'\n",
    "    ).to_crs(\n",
    "    'epsg:32612'\n",
    "    )\n",
    "\n",
    "subset = gpd.clip(buildings_gdf.to_crs('epsg:32612'), test)"
   ]
  },
  {
   "cell_type": "code",
   "execution_count": 13,
   "metadata": {},
   "outputs": [
    {
     "data": {
      "text/html": [
       "<div>\n",
       "<style scoped>\n",
       "    .dataframe tbody tr th:only-of-type {\n",
       "        vertical-align: middle;\n",
       "    }\n",
       "\n",
       "    .dataframe tbody tr th {\n",
       "        vertical-align: top;\n",
       "    }\n",
       "\n",
       "    .dataframe thead th {\n",
       "        text-align: right;\n",
       "    }\n",
       "</style>\n",
       "<table border=\"1\" class=\"dataframe\">\n",
       "  <thead>\n",
       "    <tr style=\"text-align: right;\">\n",
       "      <th></th>\n",
       "      <th>release</th>\n",
       "      <th>capture_dates_range</th>\n",
       "      <th>geometry</th>\n",
       "    </tr>\n",
       "  </thead>\n",
       "  <tbody>\n",
       "    <tr>\n",
       "      <th>2554853</th>\n",
       "      <td>2</td>\n",
       "      <td>5/7/2020-5/21/2020</td>\n",
       "      <td>POLYGON ((404753.100 3704983.244, 404737.154 3...</td>\n",
       "    </tr>\n",
       "    <tr>\n",
       "      <th>2268848</th>\n",
       "      <td>2</td>\n",
       "      <td>5/7/2020-5/21/2020</td>\n",
       "      <td>POLYGON ((404354.124 3704976.768, 404354.128 3...</td>\n",
       "    </tr>\n",
       "    <tr>\n",
       "      <th>2717911</th>\n",
       "      <td>2</td>\n",
       "      <td>5/7/2020-5/21/2020</td>\n",
       "      <td>POLYGON ((404537.000 3704958.656, 404523.804 3...</td>\n",
       "    </tr>\n",
       "    <tr>\n",
       "      <th>2007789</th>\n",
       "      <td>2</td>\n",
       "      <td>5/7/2020-5/21/2020</td>\n",
       "      <td>POLYGON ((405329.273 3704989.328, 405329.598 3...</td>\n",
       "    </tr>\n",
       "    <tr>\n",
       "      <th>2554592</th>\n",
       "      <td>2</td>\n",
       "      <td>5/7/2020-5/21/2020</td>\n",
       "      <td>POLYGON ((404967.483 3704965.717, 404966.740 3...</td>\n",
       "    </tr>\n",
       "    <tr>\n",
       "      <th>...</th>\n",
       "      <td>...</td>\n",
       "      <td>...</td>\n",
       "      <td>...</td>\n",
       "    </tr>\n",
       "    <tr>\n",
       "      <th>2387503</th>\n",
       "      <td>2</td>\n",
       "      <td>5/7/2020-5/21/2020</td>\n",
       "      <td>POLYGON ((404569.138 3703481.775, 404569.379 3...</td>\n",
       "    </tr>\n",
       "    <tr>\n",
       "      <th>2403374</th>\n",
       "      <td>2</td>\n",
       "      <td>5/7/2020-5/21/2020</td>\n",
       "      <td>POLYGON ((405395.860 3703497.145, 405395.316 3...</td>\n",
       "    </tr>\n",
       "    <tr>\n",
       "      <th>2211192</th>\n",
       "      <td>2</td>\n",
       "      <td>5/7/2020-5/21/2020</td>\n",
       "      <td>POLYGON ((404508.817 3703490.688, 404497.386 3...</td>\n",
       "    </tr>\n",
       "    <tr>\n",
       "      <th>2647141</th>\n",
       "      <td>2</td>\n",
       "      <td>5/7/2020-5/21/2020</td>\n",
       "      <td>POLYGON ((405307.101 3703496.574, 405317.693 3...</td>\n",
       "    </tr>\n",
       "    <tr>\n",
       "      <th>2645318</th>\n",
       "      <td>2</td>\n",
       "      <td>5/7/2020-5/21/2020</td>\n",
       "      <td>POLYGON ((404464.481 3703490.128, 404464.540 3...</td>\n",
       "    </tr>\n",
       "  </tbody>\n",
       "</table>\n",
       "<p>2245 rows × 3 columns</p>\n",
       "</div>"
      ],
      "text/plain": [
       "         release capture_dates_range  \\\n",
       "2554853        2  5/7/2020-5/21/2020   \n",
       "2268848        2  5/7/2020-5/21/2020   \n",
       "2717911        2  5/7/2020-5/21/2020   \n",
       "2007789        2  5/7/2020-5/21/2020   \n",
       "2554592        2  5/7/2020-5/21/2020   \n",
       "...          ...                 ...   \n",
       "2387503        2  5/7/2020-5/21/2020   \n",
       "2403374        2  5/7/2020-5/21/2020   \n",
       "2211192        2  5/7/2020-5/21/2020   \n",
       "2647141        2  5/7/2020-5/21/2020   \n",
       "2645318        2  5/7/2020-5/21/2020   \n",
       "\n",
       "                                                  geometry  \n",
       "2554853  POLYGON ((404753.100 3704983.244, 404737.154 3...  \n",
       "2268848  POLYGON ((404354.124 3704976.768, 404354.128 3...  \n",
       "2717911  POLYGON ((404537.000 3704958.656, 404523.804 3...  \n",
       "2007789  POLYGON ((405329.273 3704989.328, 405329.598 3...  \n",
       "2554592  POLYGON ((404967.483 3704965.717, 404966.740 3...  \n",
       "...                                                    ...  \n",
       "2387503  POLYGON ((404569.138 3703481.775, 404569.379 3...  \n",
       "2403374  POLYGON ((405395.860 3703497.145, 405395.316 3...  \n",
       "2211192  POLYGON ((404508.817 3703490.688, 404497.386 3...  \n",
       "2647141  POLYGON ((405307.101 3703496.574, 405317.693 3...  \n",
       "2645318  POLYGON ((404464.481 3703490.128, 404464.540 3...  \n",
       "\n",
       "[2245 rows x 3 columns]"
      ]
     },
     "execution_count": 13,
     "metadata": {},
     "output_type": "execute_result"
    }
   ],
   "source": [
    "#subset.plot()\n",
    "subset"
   ]
  },
  {
   "cell_type": "code",
   "execution_count": 14,
   "metadata": {},
   "outputs": [],
   "source": [
    "xds_rio = rio.open_rasterio(os.path.join(ws, 'precip_raster.tiff'))\n",
    "\n",
    "#xds_rio_reprojected = xds_rio.rio.reproject('EPSG:32612')\n",
    "#The commented out line is unecessary because the raster is already in the correct projection"
   ]
  },
  {
   "cell_type": "code",
   "execution_count": 16,
   "metadata": {},
   "outputs": [],
   "source": [
    "clipped = xds_rio.rio.clip(subset.geometry.values, subset.crs, all_touched=True, drop=True)"
   ]
  },
  {
   "cell_type": "code",
   "execution_count": 17,
   "metadata": {},
   "outputs": [
    {
     "data": {
      "text/plain": [
       "<matplotlib.colorbar.Colorbar at 0x2321b8ee2e0>"
      ]
     },
     "execution_count": 17,
     "metadata": {},
     "output_type": "execute_result"
    },
    {
     "data": {
      "image/png": "[encoded data removed]",
      "text/plain": [
       "<Figure size 720x432 with 2 Axes>"
      ]
     },
     "metadata": {
      "needs_background": "light"
     },
     "output_type": "display_data"
    }
   ],
   "source": [
    "fig, ax = plt.subplots(figsize=(10,6))\n",
    "im1 = ax.imshow(clipped[0], cmap='RdYlBu')\n",
    "\n",
    "ax.set_title(\"Precip\", fontsize=14)\n",
    "divider = make_axes_locatable(ax)\n",
    "cax = divider.append_axes('right', size='5%', pad=0.05)\n",
    "fig.colorbar(im1, cax=cax, orientation='vertical')"
   ]
  },
  {
   "cell_type": "code",
   "execution_count": null,
   "metadata": {},
   "outputs": [],
   "source": []
  }
 ],
 "metadata": {
  "kernelspec": {
   "display_name": "Python 3",
   "language": "python",
   "name": "python3"
  },
  "language_info": {
   "codemirror_mode": {
    "name": "ipython",
    "version": 3
   },
   "file_extension": ".py",
   "mimetype": "text/x-python",
   "name": "python",
   "nbconvert_exporter": "python",
   "pygments_lexer": "ipython3",
   "version": "3.8.5"
  },
  "vscode": {
   "interpreter": {
    "hash": "17895b665ee7b1b8868cee736aa78cc10ea02c8f649319f9f3b8f4c2af9e6c40"
   }
  }
 },
 "nbformat": 4,
 "nbformat_minor": 2
}
