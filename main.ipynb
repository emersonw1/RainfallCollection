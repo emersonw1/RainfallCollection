{
 "cells": [
  {
   "cell_type": "code",
   "execution_count": 33,
   "metadata": {},
   "outputs": [],
   "source": [
    "# Import packages\n",
    "import os\n",
    "os.environ['USE_PYGEOS'] = '0'\n",
    "import geopandas as gpd\n",
    "import pandas as pd\n",
    "import requests\n",
    "import rasterio\n",
    "import xarray as xr\n",
    "import rioxarray as rio\n",
    "import numpy as np\n",
    "import matplotlib.pyplot as plt\n",
    "import mercantile as m\n",
    "from shapely.geometry import shape, Polygon, Point\n",
    "from mpl_toolkits.axes_grid1 import make_axes_locatable\n",
    "import matplotlib.pyplot as plt\n",
    "from zipfile import ZipFile\n",
    "import shutil\n",
    "\n",
    "\n",
    "# NOTE: change to your own path when setting workspace\n",
    "ws = r'C:\\Users\\emers\\.rainfall'\n"
   ]
  },
  {
   "cell_type": "markdown",
   "metadata": {},
   "source": [
    "### Step 1: Get Microsoft Building Footprint Data\n",
    "\n",
    "The data needs to be broken into a subset, even smaller than the United States--no need for 129 million buildings in a massive geojson. Instead, we have to parse the quadkeys (an indexing technique used in vector tiling) into lat/long. For this, we will use the `mercantile` package.\n",
    "\n",
    "##### References:\n",
    "- [Global Footprints Dataset](https://github.com/microsoft/GlobalMLBuildingFootprints)\n",
    "- [Mercantile Documentation](https://mercantile.readthedocs.io/_/downloads/en/latest/pdf/)"
   ]
  },
  {
   "cell_type": "code",
   "execution_count": 2,
   "metadata": {},
   "outputs": [],
   "source": [
    "# set target state\n",
    "state = 'arizona'\n",
    "\n",
    "# get state bounds\n",
    "state_df = gpd.read_file(f'https://raw.githubusercontent.com/glynnbird/usstatesgeojson/master/{state}.geojson')\n",
    "state_gdf = gpd.GeoDataFrame(state_df, crs=4326)"
   ]
  },
  {
   "cell_type": "code",
   "execution_count": 3,
   "metadata": {},
   "outputs": [
    {
     "name": "stdout",
     "output_type": "stream",
     "text": [
      "zip downloaded\n",
      "file unzipped successfully (845767.832 MB)\n"
     ]
    }
   ],
   "source": [
    "# get building data\n",
    "filename = f'{state.title()}.geojson.zip'\n",
    "filepath = os.path.join(ws, filename)\n",
    "url = f'https://usbuildingdata.blob.core.windows.net/usbuildings-v2/{filename}'\n",
    "\n",
    "with requests.get(url, allow_redirects=True, stream=True) as r:\n",
    "    with open(filepath, 'wb') as f:\n",
    "        shutil.copyfileobj(r.raw, f)\n",
    "        print('zip downloaded')\n",
    "\n",
    "        with ZipFile(filepath, 'r') as z:\n",
    "            z.extractall(\n",
    "                path=ws\n",
    "                )\n",
    "\n",
    "print(f'file unzipped successfully ({os.path.getsize(filename.strip(\".zip\")) / 1000} MB)')\n",
    "\n",
    "buildings_gdf = gpd.read_file(filepath.strip('.zip'))"
   ]
  },
  {
   "cell_type": "code",
   "execution_count": 4,
   "metadata": {},
   "outputs": [
    {
     "name": "stdout",
     "output_type": "stream",
     "text": [
      "                          tp\n",
      "longitude latitude          \n",
      "-108.0    32.00     0.000645\n",
      "          31.75     0.000628\n",
      "          31.50     0.000587\n",
      "          31.25     0.000650\n",
      "          31.00     0.000684\n",
      "                          tp\n",
      "longitude latitude          \n",
      "-108.0    32.00     0.003283\n",
      "          31.75     0.003353\n",
      "          31.50     0.003656\n",
      "          31.25     0.004519\n",
      "          31.00     0.004999\n",
      "                     tp\n",
      "longitude latitude     \n",
      "-108.0    32.00     0.0\n",
      "          31.75     0.0\n",
      "          31.50     0.0\n",
      "          31.25     0.0\n",
      "          31.00     0.0\n"
     ]
    }
   ],
   "source": [
    "# load precip data\n",
    "xds = xr.open_dataset(os.path.join(ws, 'precip.nc'))\n",
    "\n",
    "# drop the \"expver\" dimension\n",
    "no_expver = xds.reduce(np.nansum, dim='expver')\n",
    "\n",
    "# get mean, max, min precipitation over the 10 year period\n",
    "mean = no_expver.reduce(np.mean, dim='time', keep_attrs=True)\n",
    "max = no_expver.reduce(np.max, dim='time', keep_attrs=True)\n",
    "min = no_expver.reduce(np.min, dim='time', keep_attrs=True)\n",
    "\n",
    "# verify time dimension has been removed from each\n",
    "for i in [max, mean, min]:\n",
    "    assert 120 not in i.to_array().shape \n",
    "\n",
    "mean_df = mean.to_dataframe()\n",
    "max_df = max.to_dataframe()\n",
    "min_df = min.to_dataframe()\n",
    "\n",
    "print(mean_df.tail(5))\n",
    "print(max_df.tail(5))\n",
    "print(min_df.tail(5))\n"
   ]
  },
  {
   "cell_type": "code",
   "execution_count": 31,
   "metadata": {},
   "outputs": [
    {
     "data": {
      "text/plain": [
       "<matplotlib.colorbar.Colorbar at 0x16ba16a3100>"
      ]
     },
     "execution_count": 31,
     "metadata": {},
     "output_type": "execute_result"
    },
    {
     "data": {
      "image/png": "[encoded data removed]",
      "text/plain": [
       "<Figure size 720x432 with 2 Axes>"
      ]
     },
     "metadata": {
      "needs_background": "light"
     },
     "output_type": "display_data"
    }
   ],
   "source": [
    "# Plot\n",
    "fig, ax = plt.subplots(figsize=(10,6))\n",
    "im1 = ax.imshow(mean.to_array()[0], cmap='RdYlBu_r')\n",
    "\n",
    "ax.set_title(\"Precip\", fontsize=14)\n",
    "divider = make_axes_locatable(ax)\n",
    "cax = divider.append_axes('right', size='5%', pad=0.05)\n",
    "fig.colorbar(im1, cax=cax, orientation='vertical')"
   ]
  },
  {
   "cell_type": "code",
   "execution_count": 25,
   "metadata": {},
   "outputs": [],
   "source": [
    "# Converts the NC file with precipitation data to A Raster\n",
    "precip = no_expver['tp']\n",
    "precip = precip.rio.set_spatial_dims(x_dim='latitude', y_dim='longitude')\n",
    "reordered = precip.transpose('time', 'latitude', 'longitude')\n",
    "reordered.rio.write_crs('epsg:32612', inplace=True)\n",
    "reordered.rio.to_raster(r'precip_raster.tiff')"
   ]
  },
  {
   "cell_type": "code",
   "execution_count": 40,
   "metadata": {},
   "outputs": [
    {
     "data": {
      "text/plain": [
       "<matplotlib.colorbar.Colorbar at 0x16c3ed0d040>"
      ]
     },
     "execution_count": 40,
     "metadata": {},
     "output_type": "execute_result"
    },
    {
     "data": {
      "image/png": "[encoded data removed]",
      "text/plain": [
       "<Figure size 720x432 with 2 Axes>"
      ]
     },
     "metadata": {
      "needs_background": "light"
     },
     "output_type": "display_data"
    }
   ],
   "source": [
    "# Opens raster created in last cell, change file path to your own\n",
    "precip_raster = rasterio.open(r'C:\\Users\\emers\\.rainfall\\precip_raster.tiff')\n",
    "\n",
    "#\n",
    "precip_array = precip_raster.read(1)\n",
    "\n",
    "fig, ax = plt.subplots(figsize=(10,6))\n",
    "im1 = ax.imshow(precip_array, cmap='RdYlBu_r')\n",
    "\n",
    "ax.set_title(\"Precip\", fontsize=14)\n",
    "divider = make_axes_locatable(ax)\n",
    "cax = divider.append_axes('right', size='5%', pad=0.05)\n",
    "fig.colorbar(im1, cax=cax, orientation='vertical')"
   ]
  },
  {
   "cell_type": "code",
   "execution_count": 45,
   "metadata": {},
   "outputs": [
    {
     "data": {
      "text/plain": [
       "array([[0.00033187, 0.00042921, 0.00055123, 0.00063324, 0.00062557,\n",
       "        0.00075342, 0.0008736 , 0.00102811, 0.00124547, 0.00126264,\n",
       "        0.00106629, 0.00081642, 0.00065041, 0.00065424, 0.00067908,\n",
       "        0.00071141, 0.00070958, 0.00069041, 0.00073808, 0.0008736 ,\n",
       "        0.00113113, 0.00135415, 0.00144766, 0.0015125 , 0.00165168,\n",
       "        0.00181954, 0.00200272, 0.00221441, 0.00244711],\n",
       "       [0.00034904, 0.00044255, 0.0006084 , 0.00069241, 0.00054356,\n",
       "        0.00066574, 0.00074192, 0.00086776, 0.00113296, 0.00121114,\n",
       "        0.00112346, 0.00094994, 0.00072291, 0.00069808, 0.00065991,\n",
       "        0.00064274, 0.00067524, 0.00076492, 0.00086776, 0.00099178,\n",
       "        0.00112346, 0.00124547, 0.00139616, 0.00152784, 0.00159068,\n",
       "        0.00155834, 0.00184437, 0.00217824, 0.00228876],\n",
       "       [0.00043305, 0.00052456, 0.0006104 , 0.00066941, 0.00073808,\n",
       "        0.00083543, 0.00095361, 0.00119013, 0.00156401, 0.00152017,\n",
       "        0.00115963, 0.00084309, 0.00080109, 0.00068858, 0.00071908,\n",
       "        0.00084493, 0.00094411, 0.00104145, 0.00100511, 0.00101478,\n",
       "        0.00106045, 0.0011788 , 0.00126081, 0.00125314, 0.00122064,\n",
       "        0.0012093 , 0.00125497, 0.00139616, 0.00133332],\n",
       "       [0.00042538, 0.00045205, 0.0005684 , 0.00069241, 0.00071908,\n",
       "        0.00094794, 0.00091927, 0.00104912, 0.00102611, 0.00114246,\n",
       "        0.00095561, 0.00096511, 0.0008946 , 0.00075908, 0.00077625,\n",
       "        0.0008926 , 0.00106429, 0.00127598, 0.00121497, 0.00106045,\n",
       "        0.00100711, 0.00106812, 0.00108912, 0.00108145, 0.00097844,\n",
       "        0.00090593, 0.00096711, 0.00106629, 0.00108529],\n",
       "       [0.00038521, 0.00042538, 0.00054739, 0.00066574, 0.00067324,\n",
       "        0.00106629, 0.00105278, 0.00093077, 0.00084109, 0.00109296,\n",
       "        0.0012283 , 0.00123214, 0.00095944, 0.00078009, 0.00079726,\n",
       "        0.00090793, 0.00105478, 0.00132181, 0.00135415, 0.00121114,\n",
       "        0.00122064, 0.00106629, 0.00108712, 0.00111396, 0.00107762,\n",
       "        0.00087926, 0.00068858, 0.00074775, 0.0008526 ],\n",
       "       [0.00034904, 0.00045388, 0.00057606, 0.00076108, 0.00083726,\n",
       "        0.00122064, 0.00115013, 0.00102611, 0.00084693, 0.00113679,\n",
       "        0.00127981, 0.0014725 , 0.0011883 , 0.00096711, 0.00086593,\n",
       "        0.00097278, 0.00108529, 0.00136949, 0.00140382, 0.00134282,\n",
       "        0.00135798, 0.00116346, 0.00115963, 0.0011883 , 0.00124364,\n",
       "        0.00082976, 0.00063507, 0.00052256, 0.00064274],\n",
       "       [0.00041955, 0.00053223, 0.00064274, 0.00082976, 0.00102995,\n",
       "        0.00118063, 0.00110812, 0.00109862, 0.00097278, 0.00115963,\n",
       "        0.0012188 , 0.00141149, 0.00142483, 0.00116346, 0.00106045,\n",
       "        0.00102811, 0.00112529, 0.00136949, 0.00136382, 0.00130081,\n",
       "        0.00135048, 0.00121314, 0.00121114, 0.00123981, 0.00128181,\n",
       "        0.00081442, 0.00057023, 0.00045588, 0.00051306],\n",
       "       [0.00054939, 0.0006314 , 0.00073241, 0.00083543, 0.00103945,\n",
       "        0.00102995, 0.00107195, 0.00109296, 0.00120347, 0.00114629,\n",
       "        0.0011578 , 0.00123597, 0.00145533, 0.0012188 , 0.00106429,\n",
       "        0.00101845, 0.00104328, 0.00117296, 0.0011673 , 0.0012283 ,\n",
       "        0.00134465, 0.00125697, 0.00132748, 0.00135415, 0.00116913,\n",
       "        0.00079159, 0.00056456, 0.00046722, 0.00044638],\n",
       "       [0.00053406, 0.00065424, 0.00070958, 0.00076675, 0.00102995,\n",
       "        0.00098411, 0.00108145, 0.00114446, 0.0012093 , 0.00114629,\n",
       "        0.00136565, 0.001461  , 0.00160218, 0.00134848, 0.0011788 ,\n",
       "        0.0008926 , 0.0008621 , 0.00096711, 0.00102611, 0.00112529,\n",
       "        0.00127598, 0.00125881, 0.00135232, 0.00137715, 0.00100328,\n",
       "        0.00081826, 0.00078959, 0.00072675, 0.00047689],\n",
       "       [0.00047689, 0.0005799 , 0.00070758, 0.0009136 , 0.00124747,\n",
       "        0.00116163, 0.00117296, 0.00117113, 0.00109679, 0.00135999,\n",
       "        0.00175853, 0.00222008, 0.00258446, 0.00217058, 0.00158501,\n",
       "        0.00106812, 0.00080292, 0.00077625, 0.00084876, 0.00093644,\n",
       "        0.00097461, 0.00106245, 0.0011883 , 0.00122447, 0.00102611,\n",
       "        0.00110062, 0.00100511, 0.00080492, 0.0005684 ],\n",
       "       [0.00048072, 0.00053406, 0.00062557, 0.00082593, 0.0012283 ,\n",
       "        0.0012093 , 0.00125697, 0.00135048, 0.001522  , 0.00141149,\n",
       "        0.00149917, 0.00195889, 0.00304801, 0.00250628, 0.00185387,\n",
       "        0.00128181, 0.00095177, 0.00075142, 0.00071341, 0.00076492,\n",
       "        0.0008736 , 0.00095177, 0.00101661, 0.00102995, 0.00095561,\n",
       "        0.00107962, 0.00094027, 0.00069808, 0.00051689],\n",
       "       [0.00049205, 0.0006294 , 0.00070008, 0.00083159, 0.00095561,\n",
       "        0.00101661, 0.00128548, 0.00180437, 0.00223725, 0.00187871,\n",
       "        0.00158684, 0.0017967 , 0.00227742, 0.00259212, 0.00224692,\n",
       "        0.00180053, 0.00112346, 0.00090793, 0.00076492, 0.00072858,\n",
       "        0.0006084 , 0.00052839, 0.00060273, 0.00073058, 0.00082976,\n",
       "        0.0008716 , 0.00074192, 0.00053973, 0.00042155],\n",
       "       [0.00047105, 0.00047689, 0.00057606, 0.00066374, 0.00073241,\n",
       "        0.00082209, 0.00112146, 0.00159834, 0.00222208, 0.00214191,\n",
       "        0.00193972, 0.00193405, 0.00202173, 0.00232893, 0.00266463,\n",
       "        0.00242044, 0.00165368, 0.00111762, 0.00095361, 0.00077442,\n",
       "        0.0006104 , 0.00050156, 0.00041771, 0.00048639, 0.00050356,\n",
       "        0.00055506, 0.00048072, 0.00043672, 0.00035287],\n",
       "       [0.00045772, 0.00047689, 0.00051306, 0.0005589 , 0.00062374,\n",
       "        0.00074192, 0.00102045, 0.00131981, 0.00195688, 0.0021114 ,\n",
       "        0.00227159, 0.00226592, 0.00233459, 0.00228309, 0.00242227,\n",
       "        0.00252912, 0.00204856, 0.00172036, 0.00138282, 0.00122264,\n",
       "        0.00105278, 0.00091177, 0.00067324, 0.00050739, 0.00045588,\n",
       "        0.00046155, 0.00050739, 0.00042721, 0.00034337],\n",
       "       [0.00045022, 0.00047305, 0.00047872, 0.00049972, 0.0005569 ,\n",
       "        0.00074575, 0.00093077, 0.00112529, 0.00139616, 0.00183671,\n",
       "        0.00204089, 0.00208657, 0.00234993, 0.00259396, 0.00259779,\n",
       "        0.00256912, 0.00240327, 0.00207907, 0.00192455, 0.00172236,\n",
       "        0.00167469, 0.00153167, 0.00127414, 0.00084693, 0.00070575,\n",
       "        0.00051506, 0.00053589, 0.00044055, 0.00037004],\n",
       "       [0.00045588, 0.00046922, 0.00047872, 0.00048255, 0.00052456,\n",
       "        0.00071525, 0.00095561, 0.00116163, 0.00109679, 0.00134465,\n",
       "        0.00154684, 0.00160985, 0.00194555, 0.00238427, 0.00268363,\n",
       "        0.00265496, 0.00254628, 0.0021344 , 0.00203323, 0.0020599 ,\n",
       "        0.00201422, 0.00185387, 0.00163835, 0.00118063, 0.00089643,\n",
       "        0.00067908, 0.00065807, 0.00049022, 0.00041771],\n",
       "       [0.00044822, 0.00046355, 0.00047305, 0.00049022, 0.00056073,\n",
       "        0.00066191, 0.0008946 , 0.00110246, 0.00107762, 0.0011578 ,\n",
       "        0.00111962, 0.00121114, 0.00153167, 0.00188071, 0.00225642,\n",
       "        0.00261879, 0.00250628, 0.00200656, 0.00172619, 0.00175853,\n",
       "        0.00182154, 0.00164602, 0.001482  , 0.00129514, 0.00101095,\n",
       "        0.00097278, 0.00094994, 0.00073625, 0.00048439],\n",
       "       [0.00049022, 0.00048072, 0.00047305, 0.00050739, 0.00065424,\n",
       "        0.00069424, 0.00072091, 0.00081642, 0.00099378, 0.00083926,\n",
       "        0.00080109, 0.00098611, 0.00130648, 0.00152017, 0.00169952,\n",
       "        0.00208657, 0.00234026, 0.00168419, 0.00116913, 0.00103762,\n",
       "        0.00105095, 0.00119213, 0.00120347, 0.00111196, 0.00119013,\n",
       "        0.00129698, 0.00123597, 0.0009136 , 0.00065607],\n",
       "       [0.00050156, 0.00045588, 0.00043672, 0.00050156, 0.00056656,\n",
       "        0.00056456, 0.0005989 , 0.00068658, 0.0006409 , 0.00062757,\n",
       "        0.00075525, 0.00098994, 0.00119013, 0.00114829, 0.00121697,\n",
       "        0.00129131, 0.00127598, 0.00103945, 0.0008946 , 0.00088693,\n",
       "        0.0008926 , 0.00074392, 0.00070958, 0.00084693, 0.00100711,\n",
       "        0.00112729, 0.00126647, 0.00111012, 0.00087743],\n",
       "       [0.0006084 , 0.00054356, 0.0005779 , 0.00065607, 0.00058557,\n",
       "        0.00056073, 0.00059707, 0.00067324, 0.0006389 , 0.0006294 ,\n",
       "        0.00075142, 0.00090593, 0.00083926, 0.00087926, 0.00102045,\n",
       "        0.00110246, 0.00105478, 0.00113479, 0.00091927, 0.00095361,\n",
       "        0.00099561, 0.00066941, 0.00056456, 0.0005874 , 0.00069624,\n",
       "        0.00085643, 0.00108145, 0.00096511, 0.00073241],\n",
       "       [0.00073625, 0.00070375, 0.00067708, 0.00073058, 0.00073058,\n",
       "        0.00066757, 0.00062374, 0.00065424, 0.00070758, 0.00070758,\n",
       "        0.00077442, 0.00077242, 0.00058173, 0.00058173, 0.00078575,\n",
       "        0.00094794, 0.00109095, 0.00134665, 0.00088693, 0.00065991,\n",
       "        0.00064857, 0.00062174, 0.00047689, 0.00048822, 0.00062557,\n",
       "        0.00083726, 0.00080876, 0.0006084 , 0.00044055],\n",
       "       [0.00076292, 0.00073625, 0.00059123, 0.00057406, 0.0005799 ,\n",
       "        0.0006314 , 0.0006294 , 0.00061424, 0.00056456, 0.0006179 ,\n",
       "        0.00066574, 0.00063707, 0.0005684 , 0.00052839, 0.00060457,\n",
       "        0.00059707, 0.00069424, 0.0008641 , 0.00096511, 0.00077059,\n",
       "        0.00069041, 0.00058373, 0.00056273, 0.00052839, 0.0005989 ,\n",
       "        0.00054739, 0.00056656, 0.00041205, 0.00037387],\n",
       "       [0.00074192, 0.00069241, 0.0005779 , 0.00052639, 0.00047689,\n",
       "        0.00054739, 0.00060073, 0.00054356, 0.00050539, 0.0005589 ,\n",
       "        0.00060457, 0.0005989 , 0.00058557, 0.00064274, 0.00056456,\n",
       "        0.00054556, 0.00052072, 0.00061607, 0.00071341, 0.00065991,\n",
       "        0.0005589 , 0.00060073, 0.00082976, 0.00081059, 0.00061424,\n",
       "        0.00045022, 0.00046355, 0.00036237, 0.0003242 ],\n",
       "       [0.00066574, 0.00061607, 0.00053406, 0.00051689, 0.00046539,\n",
       "        0.00039671, 0.00045022, 0.00047105, 0.00052456, 0.00058557,\n",
       "        0.00056656, 0.00054939, 0.0005874 , 0.00072475, 0.00064274,\n",
       "        0.00053789, 0.00052639, 0.00062374, 0.00063707, 0.00058373,\n",
       "        0.00048255, 0.00057406, 0.00086026, 0.00090027, 0.00070375,\n",
       "        0.00047872, 0.00047489, 0.00040821, 0.00039671],\n",
       "       [0.00082209, 0.0006314 , 0.00054556, 0.00053406, 0.00051506,\n",
       "        0.00044438, 0.00041771, 0.00047489, 0.00057223, 0.00063324,\n",
       "        0.00061424, 0.0005894 , 0.00063507, 0.00071341, 0.00064474,\n",
       "        0.00053973, 0.0006179 , 0.00069424, 0.00067908, 0.0005989 ,\n",
       "        0.00049972, 0.00057223, 0.00078575, 0.00082393, 0.0009021 ,\n",
       "        0.00071908, 0.00060273, 0.00062374, 0.0006104 ],\n",
       "       [0.00090793, 0.00071708, 0.0006199 , 0.00055123, 0.00054556,\n",
       "        0.00053406, 0.00050739, 0.0005874 , 0.00062374, 0.00066941,\n",
       "        0.00066941, 0.00065807, 0.00071341, 0.00066191, 0.00062757,\n",
       "        0.00067524, 0.00078575, 0.00080676, 0.00077059, 0.00070008,\n",
       "        0.0006314 , 0.00067141, 0.00077059, 0.00082209, 0.0009021 ,\n",
       "        0.00095177, 0.00070575, 0.00075908, 0.00080109],\n",
       "       [0.00097461, 0.00070758, 0.00060657, 0.00048822, 0.00049789,\n",
       "        0.00052639, 0.00058373, 0.00068858, 0.00064474, 0.00060073,\n",
       "        0.0006084 , 0.00065807, 0.00070758, 0.00070758, 0.00074958,\n",
       "        0.00080109, 0.0008736 , 0.00093844, 0.00093844, 0.00086026,\n",
       "        0.00076108, 0.00081826, 0.00069424, 0.00080876, 0.00089843,\n",
       "        0.00093844, 0.00069041, 0.00075525, 0.00077442]], dtype=float32)"
      ]
     },
     "execution_count": 45,
     "metadata": {},
     "output_type": "execute_result"
    }
   ],
   "source": [
    "precip_array"
   ]
  },
  {
   "cell_type": "code",
   "execution_count": null,
   "metadata": {},
   "outputs": [],
   "source": []
  }
 ],
 "metadata": {
  "kernelspec": {
   "display_name": "Python 3",
   "language": "python",
   "name": "python3"
  },
  "language_info": {
   "codemirror_mode": {
    "name": "ipython",
    "version": 3
   },
   "file_extension": ".py",
   "mimetype": "text/x-python",
   "name": "python",
   "nbconvert_exporter": "python",
   "pygments_lexer": "ipython3",
   "version": "3.8.5"
  },
  "vscode": {
   "interpreter": {
    "hash": "17895b665ee7b1b8868cee736aa78cc10ea02c8f649319f9f3b8f4c2af9e6c40"
   }
  }
 },
 "nbformat": 4,
 "nbformat_minor": 2
}
